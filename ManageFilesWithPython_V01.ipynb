{
 "cells": [
  {
   "cell_type": "markdown",
   "metadata": {},
   "source": [
    "# Manage Files With Python\n",
    "This Notebook will read all files from a folder, checking which types these files are and then copying the files. \n",
    "All files with the same data type will be copied in one folder so that you can sort your files with this script. Of course you can change the data type we are searching for, also the path to the folder or folder names in order to fit this script to your needs.\n",
    "\n",
    "This script can also be used to rename files."
   ]
  },
  {
   "cell_type": "markdown",
   "metadata": {},
   "source": [
    "## 1st Read All File Names\n",
    "In a first step, we are reading all files in one folder with a so called Lambda Function. A Lambda Function is just a short way to define a simple, one line code function."
   ]
  },
  {
   "cell_type": "code",
   "execution_count": 12,
   "metadata": {},
   "outputs": [],
   "source": [
    "# Import Library os - Operating System interface\n",
    "from os import listdir\n",
    "from os.path import isfile, join\n",
    "\n",
    "\n",
    "# Path to your files\n",
    "\n",
    "path_file = \"AllFiles\"\n",
    "\n",
    "# Lambda Function - Get all the files from a specific folder\n",
    "filesnames = [f for f in listdir(path_file) if isfile(join(path_file, f))]"
   ]
  },
  {
   "cell_type": "code",
   "execution_count": 13,
   "metadata": {},
   "outputs": [
    {
     "data": {
      "text/plain": [
       "[]"
      ]
     },
     "execution_count": 13,
     "metadata": {},
     "output_type": "execute_result"
    }
   ],
   "source": [
    "filesnames"
   ]
  },
  {
   "cell_type": "markdown",
   "metadata": {},
   "source": [
    "## 2nd Identify Specific Files\n",
    "Identify files with the ending .txt, .jpg and .mp4"
   ]
  },
  {
   "cell_type": "code",
   "execution_count": 14,
   "metadata": {},
   "outputs": [],
   "source": [
    "for file in filesnames:\n",
    "    print(file[len(file)-3:])\n",
    "    fileending = file[len(file)-3:]"
   ]
  },
  {
   "cell_type": "markdown",
   "metadata": {},
   "source": [
    "## 3rd Move These Files to Specific Folder\n",
    "After we identified the specific files, we are going to move them to the specific folder: TextFiles, Pictures or Videos."
   ]
  },
  {
   "cell_type": "code",
   "execution_count": 15,
   "metadata": {},
   "outputs": [],
   "source": [
    "path_Txt = \"TextFiles\"\n",
    "path_JPG = \"Pictures\"\n",
    "path_Video = \"Videos\"\n",
    "\n",
    "import os\n",
    "# os.rename( Source, Destination)\n",
    "\n",
    "for file in filesnames:\n",
    "    fileending = file[len(file)-3:]\n",
    "    \n",
    "    if fileending == \"txt\":\n",
    "        os.rename( join(path_file, file), join(path_Txt, file))\n",
    "        \n",
    "    elif fileending == \"JPG\":\n",
    "        os.rename( join(path_file, file), join(path_JPG, file))\n",
    "\n",
    "    elif fileending == \"MP4\":\n",
    "        os.rename( join(path_file, file), join(path_Video, file))\n"
   ]
  },
  {
   "cell_type": "markdown",
   "metadata": {},
   "source": []
  }
 ],
 "metadata": {
  "kernelspec": {
   "display_name": "Python 3",
   "language": "python",
   "name": "python3"
  },
  "language_info": {
   "codemirror_mode": {
    "name": "ipython",
    "version": 3
   },
   "file_extension": ".py",
   "mimetype": "text/x-python",
   "name": "python",
   "nbconvert_exporter": "python",
   "pygments_lexer": "ipython3",
   "version": "3.8.3"
  }
 },
 "nbformat": 4,
 "nbformat_minor": 4
}
